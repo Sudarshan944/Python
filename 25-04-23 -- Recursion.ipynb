{
 "cells": [
  {
   "cell_type": "code",
   "execution_count": 3,
   "id": "9582dccc",
   "metadata": {},
   "outputs": [
    {
     "name": "stdout",
     "output_type": "stream",
     "text": [
      "12 11 10 10 11 12 "
     ]
    }
   ],
   "source": [
    "def f(n):\n",
    "    if n<=10:\n",
    "        return\n",
    "    print(n-1,end=\" \")\n",
    "    f(n-1)\n",
    "    print(n-1,end=\" \")\n",
    "f(13)"
   ]
  },
  {
   "cell_type": "code",
   "execution_count": 22,
   "id": "8b18be5d",
   "metadata": {},
   "outputs": [
    {
     "name": "stdout",
     "output_type": "stream",
     "text": [
      "10\n",
      "34\n"
     ]
    }
   ],
   "source": [
    "def fib(n):\n",
    "    if n<=1:\n",
    "        return n\n",
    "    return fib(n-1)+fib(n-2)\n",
    "n=int(input())\n",
    "print(fib(n-1))"
   ]
  },
  {
   "cell_type": "code",
   "execution_count": 21,
   "id": "d5b183f8",
   "metadata": {},
   "outputs": [
    {
     "name": "stdout",
     "output_type": "stream",
     "text": [
      "34\n"
     ]
    }
   ],
   "source": [
    "def fib(n):\n",
    "    if n<=0:\n",
    "        return -1\n",
    "    if n==1:\n",
    "        return 0\n",
    "    if n==2:\n",
    "        return 1\n",
    "    return fib(n-1)+fib(n-2)\n",
    "print(fib(10))"
   ]
  },
  {
   "cell_type": "markdown",
   "id": "f20bd475",
   "metadata": {},
   "source": [
    "# Fibonacci"
   ]
  },
  {
   "cell_type": "code",
   "execution_count": 43,
   "id": "6dcdc0bb",
   "metadata": {},
   "outputs": [
    {
     "name": "stdout",
     "output_type": "stream",
     "text": [
      "7\n"
     ]
    }
   ],
   "source": [
    "sum=1\n",
    "def fib(n):\n",
    "    if n<=0:\n",
    "        return -1\n",
    "    if n==1:\n",
    "        return 0\n",
    "    if n==2:\n",
    "        return 1\n",
    "    return fib(n-1)+fib(n-2)+1\n",
    "print(fib(5))"
   ]
  },
  {
   "cell_type": "code",
   "execution_count": 31,
   "id": "04c365d0",
   "metadata": {},
   "outputs": [
    {
     "name": "stdout",
     "output_type": "stream",
     "text": [
      "6\n",
      "12\n"
     ]
    }
   ],
   "source": [
    "n=int(input())\n",
    "a=0\n",
    "b=1\n",
    "sum=1\n",
    "for i in range(2,n):\n",
    "    c=a+b\n",
    "    sum+=c\n",
    "    a=b\n",
    "    b=c\n",
    "print(sum)"
   ]
  },
  {
   "cell_type": "code",
   "execution_count": 45,
   "id": "cfb7f32c",
   "metadata": {},
   "outputs": [
    {
     "name": "stdout",
     "output_type": "stream",
     "text": [
      "7\n"
     ]
    }
   ],
   "source": [
    "sum=1\n",
    "def fib(n):\n",
    "    if n<=0:\n",
    "        return -1\n",
    "    if n==1:\n",
    "        return 0\n",
    "    if n==2:\n",
    "        return 1\n",
    "    first,second=0,1\n",
    "    result=first+second\n",
    "    for i in range(2,n):\n",
    "        next=first+second\n",
    "        result+=next\n",
    "        first=second\n",
    "        second=next\n",
    "    print(result)\n",
    "fib(5)"
   ]
  },
  {
   "cell_type": "markdown",
   "id": "b3679061",
   "metadata": {},
   "source": [
    "Set                                    \n",
    "unordered unindexed doesn't allow duplicates"
   ]
  },
  {
   "cell_type": "code",
   "execution_count": 50,
   "id": "6462adb5",
   "metadata": {},
   "outputs": [
    {
     "name": "stdout",
     "output_type": "stream",
     "text": [
      "{1, 2, 3, 4, 5, 6, 7, 34}\n"
     ]
    }
   ],
   "source": [
    "arr=[1,2,1,2,1,2,3,4,5,3,4,5,6,7]\n",
    "my_set=set(arr)\n",
    "my_set.add(34)\n",
    "print(my_set)"
   ]
  },
  {
   "cell_type": "code",
   "execution_count": 49,
   "id": "8be60aa9",
   "metadata": {},
   "outputs": [
    {
     "name": "stdout",
     "output_type": "stream",
     "text": [
      "set()\n"
     ]
    }
   ],
   "source": [
    "print(my_set)"
   ]
  },
  {
   "cell_type": "markdown",
   "id": "62195a49",
   "metadata": {},
   "source": [
    "Dictionaries                                         \n",
    "*Key-value                                   \n",
    "*ordered                                   \n",
    "*changeble                                   \n",
    "*No duplicate                                   "
   ]
  },
  {
   "cell_type": "code",
   "execution_count": 52,
   "id": "b263d2b8",
   "metadata": {},
   "outputs": [],
   "source": [
    "my_dict={\n",
    "    \"name\":\"sudarshan\",\n",
    "    \"age\":24,\n",
    "    \"Occupation\":\"Developer\"\n",
    "}"
   ]
  },
  {
   "cell_type": "code",
   "execution_count": 53,
   "id": "7bb5e9c5",
   "metadata": {},
   "outputs": [
    {
     "name": "stdout",
     "output_type": "stream",
     "text": [
      "{'name': 'sudarshan', 'age': 24, 'Occupation': 'Developer'}\n"
     ]
    }
   ],
   "source": [
    "print(my_dict)"
   ]
  },
  {
   "cell_type": "code",
   "execution_count": 54,
   "id": "13ae5eec",
   "metadata": {},
   "outputs": [
    {
     "name": "stdout",
     "output_type": "stream",
     "text": [
      "<class 'dict'>\n"
     ]
    }
   ],
   "source": [
    "print(type(my_dict))"
   ]
  },
  {
   "cell_type": "code",
   "execution_count": 55,
   "id": "66ade8f8",
   "metadata": {
    "scrolled": true
   },
   "outputs": [
    {
     "ename": "NameError",
     "evalue": "name 'name' is not defined",
     "output_type": "error",
     "traceback": [
      "\u001b[1;31m---------------------------------------------------------------------------\u001b[0m",
      "\u001b[1;31mNameError\u001b[0m                                 Traceback (most recent call last)",
      "\u001b[1;32m<ipython-input-55-c3ccf5b7c1ce>\u001b[0m in \u001b[0;36m<module>\u001b[1;34m\u001b[0m\n\u001b[1;32m----> 1\u001b[1;33m \u001b[0mmy_dict\u001b[0m\u001b[1;33m[\u001b[0m\u001b[0mname\u001b[0m\u001b[1;33m]\u001b[0m\u001b[1;33m=\u001b[0m\u001b[1;34m\"Sudarshan Reddy\"\u001b[0m\u001b[1;33m\u001b[0m\u001b[1;33m\u001b[0m\u001b[0m\n\u001b[0m",
      "\u001b[1;31mNameError\u001b[0m: name 'name' is not defined"
     ]
    }
   ],
   "source": [
    "my_dict[name]=\"Sudarshan Reddy\""
   ]
  },
  {
   "cell_type": "code",
   "execution_count": 56,
   "id": "75034364",
   "metadata": {},
   "outputs": [],
   "source": [
    "my_dict[\"name\"]=\"Sudarshan Reddy\""
   ]
  },
  {
   "cell_type": "code",
   "execution_count": 57,
   "id": "8eba0753",
   "metadata": {},
   "outputs": [
    {
     "name": "stdout",
     "output_type": "stream",
     "text": [
      "{'name': 'Sudarshan Reddy', 'age': 24, 'Occupation': 'Developer'}\n"
     ]
    }
   ],
   "source": [
    "print(my_dict)"
   ]
  },
  {
   "cell_type": "code",
   "execution_count": 59,
   "id": "dc77fb96",
   "metadata": {},
   "outputs": [
    {
     "name": "stdout",
     "output_type": "stream",
     "text": [
      "abc\n"
     ]
    }
   ],
   "source": [
    "update_name={\n",
    "    \"name\":\"abc\"\n",
    "}\n",
    "my_dict.update(update_name)\n",
    "print(my_dict[\"name\"])"
   ]
  },
  {
   "cell_type": "markdown",
   "id": "90f6a68c",
   "metadata": {},
   "source": [
    "### OOP"
   ]
  },
  {
   "cell_type": "code",
   "execution_count": 68,
   "id": "bc58a613",
   "metadata": {},
   "outputs": [
    {
     "name": "stdout",
     "output_type": "stream",
     "text": [
      "6\n",
      "4\n"
     ]
    }
   ],
   "source": [
    "class Car:\n",
    "    engineType=\"Strongest Engine\"\n",
    "    numberOfTyres=4\n",
    "    numberOfWindow=6\n",
    "    isFridgeAvailable=True\n",
    "    def getNumberOfWindows(self):\n",
    "        return self.numberOfWindow\n",
    "    def getNumberOfTyres(self):\n",
    "        return self.numberOfTyres\n",
    "car1= Car()\n",
    "print(car1.getNumberOfWindows())\n",
    "print(car1.getNumberOfTyres())"
   ]
  },
  {
   "cell_type": "code",
   "execution_count": null,
   "id": "6574ee7b",
   "metadata": {},
   "outputs": [],
   "source": []
  }
 ],
 "metadata": {
  "kernelspec": {
   "display_name": "Python 3",
   "language": "python",
   "name": "python3"
  },
  "language_info": {
   "codemirror_mode": {
    "name": "ipython",
    "version": 3
   },
   "file_extension": ".py",
   "mimetype": "text/x-python",
   "name": "python",
   "nbconvert_exporter": "python",
   "pygments_lexer": "ipython3",
   "version": "3.8.8"
  }
 },
 "nbformat": 4,
 "nbformat_minor": 5
}
