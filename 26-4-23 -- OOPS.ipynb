{
 "cells": [
  {
   "cell_type": "code",
   "execution_count": 7,
   "id": "3ce043e5",
   "metadata": {},
   "outputs": [],
   "source": [
    "class BOOK:\n",
    "    numberOfPages=145\n",
    "    author=\"Sudarshan Reddy\"\n",
    "    scope=\"To be sold in india\"\n",
    "    def __init__(self,zone,dob):\n",
    "        self.zone=zone\n",
    "        self.dob=dob\n",
    "    def __del__(self):\n",
    "        print(\"destructor called\")\n",
    "my_book=BOOK(\"Mystery\",\"25-10-1998\") #Constructor called before creating the object\n",
    "#print(my_book.numberOfPages)\n",
    "#print(my_book.zone)\n",
    "#print(my_book.dob)\n",
    "#del my_book       #Destructor called after creating the object"
   ]
  },
  {
   "cell_type": "markdown",
   "id": "57f96735",
   "metadata": {},
   "source": [
    "        OOP Concepts\n",
    "        1.inheritance\n",
    "        2.Polymorphisim\n",
    "        3.Abstraction\n",
    "        4.Encapsulation"
   ]
  },
  {
   "cell_type": "markdown",
   "id": "8fe28c7a",
   "metadata": {},
   "source": [
    "### Inheritance"
   ]
  },
  {
   "cell_type": "markdown",
   "id": "d38e5c3f",
   "metadata": {},
   "source": [
    "child classes will have access to parent resources"
   ]
  },
  {
   "cell_type": "code",
   "execution_count": 25,
   "id": "c153da61",
   "metadata": {},
   "outputs": [
    {
     "name": "stdout",
     "output_type": "stream",
     "text": [
      "destructor called\n",
      "Child Constructor\n",
      "RJSIS\n",
      "abc\n",
      "34\n"
     ]
    }
   ],
   "source": [
    "class School:\n",
    "    name=\"RJSIS\"\n",
    "    age=34\n",
    "    #def __init__(self,age):\n",
    "        #this.age=age\n",
    "    def getAge(self):\n",
    "        return self.age\n",
    "class SubSchool(School):\n",
    "    def __init__(self):\n",
    "        print(\"Child Constructor\")\n",
    "    def getParentName(self):\n",
    "        return \"RJSIS\"\n",
    "    def getName(self):\n",
    "        return \"abc\"\n",
    "my_school=SubSchool()\n",
    "print(my_school.getParentName())\n",
    "print(my_school.getName())\n",
    "print(my_school.getAge())"
   ]
  },
  {
   "cell_type": "markdown",
   "id": "030ce00f",
   "metadata": {},
   "source": [
    "__bases__ shows all parent classes                  \n",
    "called with className"
   ]
  },
  {
   "cell_type": "code",
   "execution_count": 3,
   "id": "b2e361ff",
   "metadata": {},
   "outputs": [
    {
     "name": "stdout",
     "output_type": "stream",
     "text": [
      "(<class '__main__.Parent1'>, <class '__main__.Parent2'>, <class '__main__.Parent3'>)\n",
      "<class '__main__.Parent1'> <class '__main__.Parent2'> <class '__main__.Parent3'> "
     ]
    }
   ],
   "source": [
    "class Parent1:\n",
    "    def getName(self):\n",
    "        return \"parent1\"\n",
    "class Parent2:\n",
    "    def defName(self):\n",
    "        return \"parent2\"\n",
    "class Parent3:\n",
    "    def getName(self):\n",
    "        return \"parent3\"\n",
    "class Child(Parent1,Parent2,Parent3):\n",
    "    def __init__(self):\n",
    "        self.getAllParent()\n",
    "    def getAllParent(self):\n",
    "        print(\"trying to get all parent\")\n",
    "print(Child.__bases__)\n",
    "for base in Child.__bases__:\n",
    "    print(base,end=\" \")"
   ]
  },
  {
   "cell_type": "markdown",
   "id": "8168ca95",
   "metadata": {},
   "source": [
    "PolyMorphisim"
   ]
  },
  {
   "cell_type": "code",
   "execution_count": 5,
   "id": "32ac14ca",
   "metadata": {},
   "outputs": [
    {
     "name": "stdout",
     "output_type": "stream",
     "text": [
      "32\n",
      "60\n"
     ]
    }
   ],
   "source": [
    "def addNumbers(a,b):\n",
    "    print(a+b)\n",
    "def addNumbers(a,b,c=2):\n",
    "    print(a+b+c)\n",
    "addNumbers(10,20)\n",
    "addNumbers(10,20,30)"
   ]
  },
  {
   "cell_type": "code",
   "execution_count": 8,
   "id": "38842638",
   "metadata": {},
   "outputs": [
    {
     "name": "stdout",
     "output_type": "stream",
     "text": [
      "32\n",
      "60\n",
      "30\n",
      "10 20 (30, 40, 50, 60)\n"
     ]
    }
   ],
   "source": [
    "def addNumbers(a,b):\n",
    "    print(a+b)\n",
    "def addNumbers(a,b,c=2):\n",
    "    print(a+b+c)\n",
    "addNumbers(10,20)\n",
    "def addNumbers2(*args):\n",
    "    sum=0\n",
    "    for value in args:\n",
    "        sum+=value\n",
    "    print(sum)\n",
    "def addNumbers3(arg1,arg2,*arg3):\n",
    "    print(arg1,arg2,arg3)\n",
    "addNumbers(10,20,30)\n",
    "addNumbers2(10,20)\n",
    "addNumbers3(10,20,30,40,50,60)"
   ]
  },
  {
   "cell_type": "markdown",
   "id": "a80ee67d",
   "metadata": {},
   "source": [
    "In python method overloading is not supported latest defined method is ues"
   ]
  },
  {
   "cell_type": "code",
   "execution_count": 11,
   "id": "5fd304b6",
   "metadata": {},
   "outputs": [
    {
     "name": "stdout",
     "output_type": "stream",
     "text": [
      "Sudarshan\n"
     ]
    },
    {
     "ename": "TypeError",
     "evalue": "doJob() takes 1 positional argument but 3 were given",
     "output_type": "error",
     "traceback": [
      "\u001b[1;31m---------------------------------------------------------------------------\u001b[0m",
      "\u001b[1;31mTypeError\u001b[0m                                 Traceback (most recent call last)",
      "\u001b[1;32m<ipython-input-11-5a99c90203f3>\u001b[0m in \u001b[0;36m<module>\u001b[1;34m\u001b[0m\n\u001b[0;32m      4\u001b[0m     \u001b[0mprint\u001b[0m\u001b[1;33m(\u001b[0m\u001b[1;34m\"Sudarshan\"\u001b[0m\u001b[1;33m)\u001b[0m\u001b[1;33m\u001b[0m\u001b[1;33m\u001b[0m\u001b[0m\n\u001b[0;32m      5\u001b[0m \u001b[0mdoJob\u001b[0m\u001b[1;33m(\u001b[0m\u001b[1;36m10\u001b[0m\u001b[1;33m)\u001b[0m\u001b[1;33m\u001b[0m\u001b[1;33m\u001b[0m\u001b[0m\n\u001b[1;32m----> 6\u001b[1;33m \u001b[0mdoJob\u001b[0m\u001b[1;33m(\u001b[0m\u001b[1;36m10\u001b[0m\u001b[1;33m,\u001b[0m\u001b[1;36m20\u001b[0m\u001b[1;33m,\u001b[0m\u001b[1;36m30\u001b[0m\u001b[1;33m)\u001b[0m\u001b[1;33m\u001b[0m\u001b[1;33m\u001b[0m\u001b[0m\n\u001b[0m",
      "\u001b[1;31mTypeError\u001b[0m: doJob() takes 1 positional argument but 3 were given"
     ]
    }
   ],
   "source": [
    "def doJob(arg1,arg2,arg3):\n",
    "    print(\"Sudarshan Reddy\")\n",
    "def doJob(a):\n",
    "    print(\"Sudarshan\")\n",
    "doJob(10)\n",
    "doJob(10,20,30)"
   ]
  },
  {
   "cell_type": "code",
   "execution_count": 20,
   "id": "7c5efbe2",
   "metadata": {},
   "outputs": [
    {
     "name": "stdout",
     "output_type": "stream",
     "text": [
      "tarak can fly\n"
     ]
    },
    {
     "ename": "TypeError",
     "evalue": "canFly() missing 1 required positional argument: 'name'",
     "output_type": "error",
     "traceback": [
      "\u001b[1;31m---------------------------------------------------------------------------\u001b[0m",
      "\u001b[1;31mTypeError\u001b[0m                                 Traceback (most recent call last)",
      "\u001b[1;32m<ipython-input-20-c6dcde4a7d23>\u001b[0m in \u001b[0;36m<module>\u001b[1;34m\u001b[0m\n\u001b[0;32m     16\u001b[0m \u001b[0mmy_tarak\u001b[0m\u001b[1;33m=\u001b[0m\u001b[0mTarak\u001b[0m\u001b[1;33m(\u001b[0m\u001b[1;33m)\u001b[0m\u001b[1;33m\u001b[0m\u001b[1;33m\u001b[0m\u001b[0m\n\u001b[0;32m     17\u001b[0m \u001b[0mmy_tarak\u001b[0m\u001b[1;33m.\u001b[0m\u001b[0mcanFly\u001b[0m\u001b[1;33m(\u001b[0m\u001b[1;33m)\u001b[0m\u001b[1;33m\u001b[0m\u001b[1;33m\u001b[0m\u001b[0m\n\u001b[1;32m---> 18\u001b[1;33m \u001b[0mAnimal\u001b[0m\u001b[1;33m.\u001b[0m\u001b[0mcanFly\u001b[0m\u001b[1;33m(\u001b[0m\u001b[1;34m\"tarak\"\u001b[0m\u001b[1;33m)\u001b[0m\u001b[1;33m\u001b[0m\u001b[1;33m\u001b[0m\u001b[0m\n\u001b[0m",
      "\u001b[1;31mTypeError\u001b[0m: canFly() missing 1 required positional argument: 'name'"
     ]
    }
   ],
   "source": [
    "class Animal:\n",
    "    def printSomething(self):\n",
    "        print(\"Animals are good by nature\")\n",
    "    def canFly(self,name):\n",
    "        if(name==\"tarak\"):\n",
    "            print(\"animal tarak can fly\")\n",
    "        else:\n",
    "            print(\"no animals can fly\")\n",
    "class Dog(Animal):\n",
    "    def canFly(self):\n",
    "        print(\"dogs can fly\")\n",
    "class Tarak(Animal):\n",
    "    def canFly(self):\n",
    "        print(\"tarak can fly\")\n",
    "my_tarak=Tarak()\n",
    "my_tarak.canFly()\n",
    "Animal.canFly(\"tarak\")"
   ]
  },
  {
   "cell_type": "markdown",
   "id": "105105fb",
   "metadata": {},
   "source": [
    "ambiguity problem occurs to overcome we use parent class name"
   ]
  },
  {
   "cell_type": "markdown",
   "id": "583bea63",
   "metadata": {},
   "source": [
    "## Library"
   ]
  },
  {
   "cell_type": "code",
   "execution_count": 126,
   "id": "472e5b32",
   "metadata": {},
   "outputs": [
    {
     "name": "stdout",
     "output_type": "stream",
     "text": [
      "['hadoop', 'C', 'CPP', 'Python']\n"
     ]
    }
   ],
   "source": [
    "class Library:\n",
    "    book=[\"hadoop\",\"C\",\"CPP\"]\n",
    "    my_book={\"Hadoop\":\"cane\",\"C\":\"Balaguruswamy\"}\n",
    "    subscribers=[\"a\",\"b\",\"c\"]\n",
    "    earndict={\"a\":100,\"b\":200,\"c\":300}\n",
    "    def getAllBooks(self):\n",
    "        return self.book\n",
    "    def addBook(self,new_book):\n",
    "        self.book.append(new_book)\n",
    "    def getBookByAuthor(self,author):\n",
    "        value = {i for i in self.my_book if self.my_book[i]==author}\n",
    "        return value\n",
    "    def sortBooksInTopologicalOrder(self):\n",
    "        self.book.sort()\n",
    "    def getAllSubscribers(self):\n",
    "        return self.subscribers\n",
    "    def getAllEarnings(self):\n",
    "        return sum(self.earndict.values())\n",
    "    def getUnavailableBooks(self,check):\n",
    "        return self.book.find(check)\n",
    "    def mapAuthorWithABook(self,Bname,Aname):\n",
    "        self.my_book[Bname]=Aname\n",
    "class MyLibrary(Library):\n",
    "    my_lib=[]\n",
    "    def getFavouriteBook():\n",
    "        pass\n",
    "    def getFavouriteCustomer(self):\n",
    "        cust_inc=max(self.earndict.values())\n",
    "        value = {i for i in self.earndict if self.earndict[i]==cust_inc}\n",
    "        return value\n",
    "m=MyLibrary()\n",
    "l=Library()\n",
    "l.addBook(\"Python\")\n",
    "l.mapAuthorWithABook(\"Python\",\"newauth\")\n",
    "print(l.getAllBooks())"
   ]
  },
  {
   "cell_type": "code",
   "execution_count": 127,
   "id": "1843fb1a",
   "metadata": {},
   "outputs": [
    {
     "name": "stdout",
     "output_type": "stream",
     "text": [
      "{'Hadoop'}\n"
     ]
    }
   ],
   "source": [
    "print(l.getBookByAuthor(\"cane\"))"
   ]
  },
  {
   "cell_type": "code",
   "execution_count": 128,
   "id": "5fe45a16",
   "metadata": {},
   "outputs": [
    {
     "name": "stdout",
     "output_type": "stream",
     "text": [
      "['hadoop', 'C', 'CPP', 'Python']\n"
     ]
    }
   ],
   "source": [
    "print(l.getAllBooks())"
   ]
  },
  {
   "cell_type": "code",
   "execution_count": 129,
   "id": "3ba0e387",
   "metadata": {},
   "outputs": [
    {
     "name": "stdout",
     "output_type": "stream",
     "text": [
      "['a', 'b', 'c']\n"
     ]
    }
   ],
   "source": [
    "print(l.getAllSubscribers())"
   ]
  },
  {
   "cell_type": "code",
   "execution_count": 130,
   "id": "5d12146a",
   "metadata": {},
   "outputs": [
    {
     "name": "stdout",
     "output_type": "stream",
     "text": [
      "600\n"
     ]
    }
   ],
   "source": [
    "print(l.getAllEarnings())"
   ]
  },
  {
   "cell_type": "code",
   "execution_count": 131,
   "id": "2259005f",
   "metadata": {
    "scrolled": true
   },
   "outputs": [
    {
     "name": "stdout",
     "output_type": "stream",
     "text": [
      "{'c'}\n"
     ]
    }
   ],
   "source": [
    "print(m.getFavouriteCustomer())"
   ]
  },
  {
   "cell_type": "markdown",
   "id": "d79e794c",
   "metadata": {},
   "source": [
    "Library -- sir"
   ]
  },
  {
   "cell_type": "code",
   "execution_count": 132,
   "id": "31541752",
   "metadata": {},
   "outputs": [],
   "source": [
    "class Library:\n",
    "    book=[\"The fault of stars\",\"Abang\",\"citadel\"]\n",
    "    author_book={\n",
    "        \"Pablo\":{\"escobar\",\"escobar returns\",\"escobar part 3\"}\n",
    "    }\n",
    "    def getAllBooks(self):\n",
    "        pass\n",
    "    def addBook(self,new_book):\n",
    "        pass\n",
    "    def getBookByAuthor(self,authorName):\n",
    "        for key in author_book:\n",
    "            if key ==authorName:\n",
    "                print(author_book[key])\n",
    "    def sortBooksInTopologicalOrder(self):\n",
    "        book_copy=[]\n",
    "        for books in self.book:\n",
    "            book_copy.append(books)\n",
    "    def getAllSubscribers(self):\n",
    "        pass\n",
    "    def getAllEarnings(self):\n",
    "        pass\n",
    "    def getUnavailableBooks(self,check):\n",
    "        pass\n",
    "    def mapAuthorWithABook(self,Bname,Aname):\n",
    "        pass\n",
    "class MyLibrary(Library):\n",
    "    my_lib=[]\n",
    "    def getFavouriteBook():\n",
    "        pass\n",
    "    def getFavouriteCustomer(self):\n",
    "        pass"
   ]
  },
  {
   "cell_type": "code",
   "execution_count": null,
   "id": "0bbf65ad",
   "metadata": {},
   "outputs": [],
   "source": []
  }
 ],
 "metadata": {
  "kernelspec": {
   "display_name": "Python 3",
   "language": "python",
   "name": "python3"
  },
  "language_info": {
   "codemirror_mode": {
    "name": "ipython",
    "version": 3
   },
   "file_extension": ".py",
   "mimetype": "text/x-python",
   "name": "python",
   "nbconvert_exporter": "python",
   "pygments_lexer": "ipython3",
   "version": "3.8.8"
  }
 },
 "nbformat": 4,
 "nbformat_minor": 5
}
